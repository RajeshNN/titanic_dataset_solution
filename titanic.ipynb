{
 "cells": [
  {
   "cell_type": "markdown",
   "metadata": {},
   "source": [
    "# Titanic Dataset Survivor Classification"
   ]
  },
  {
   "cell_type": "markdown",
   "metadata": {},
   "source": [
    "### Importing libraries..."
   ]
  },
  {
   "cell_type": "code",
   "execution_count": 2,
   "metadata": {},
   "outputs": [],
   "source": [
    "import numpy as np\n",
    "import pandas as pd\n",
    "from pathlib import Path\n",
    "import math\n",
    "import matplotlib.pyplot as plt\n",
    "from sklearn.preprocessing import StandardScaler, LabelBinarizer\n",
    "import keras\n",
    "from keras.layers import Input, Dense, BatchNormalization, Activation, Dropout\n",
    "from keras import Model, regularizers"
   ]
  },
  {
   "cell_type": "markdown",
   "metadata": {},
   "source": [
    "### Importing datasets..."
   ]
  },
  {
   "cell_type": "code",
   "execution_count": 3,
   "metadata": {},
   "outputs": [],
   "source": [
    "root = Path.cwd()\n",
    "data = root/'data'"
   ]
  },
  {
   "cell_type": "code",
   "execution_count": 4,
   "metadata": {
    "_cell_guid": "79c7e3d0-c299-4dcb-8224-4455121ee9b0",
    "_uuid": "d629ff2d2480ee46fbb7e2d37f6b5fab8052498a"
   },
   "outputs": [
    {
     "data": {
      "text/html": [
       "<div>\n",
       "<style scoped>\n",
       "    .dataframe tbody tr th:only-of-type {\n",
       "        vertical-align: middle;\n",
       "    }\n",
       "\n",
       "    .dataframe tbody tr th {\n",
       "        vertical-align: top;\n",
       "    }\n",
       "\n",
       "    .dataframe thead th {\n",
       "        text-align: right;\n",
       "    }\n",
       "</style>\n",
       "<table border=\"1\" class=\"dataframe\">\n",
       "  <thead>\n",
       "    <tr style=\"text-align: right;\">\n",
       "      <th></th>\n",
       "      <th>PassengerId</th>\n",
       "      <th>Survived</th>\n",
       "      <th>Pclass</th>\n",
       "      <th>Name</th>\n",
       "      <th>Sex</th>\n",
       "      <th>Age</th>\n",
       "      <th>SibSp</th>\n",
       "      <th>Parch</th>\n",
       "      <th>Ticket</th>\n",
       "      <th>Fare</th>\n",
       "      <th>Cabin</th>\n",
       "      <th>Embarked</th>\n",
       "    </tr>\n",
       "  </thead>\n",
       "  <tbody>\n",
       "    <tr>\n",
       "      <th>0</th>\n",
       "      <td>1</td>\n",
       "      <td>0</td>\n",
       "      <td>3</td>\n",
       "      <td>Braund, Mr. Owen Harris</td>\n",
       "      <td>male</td>\n",
       "      <td>22.0</td>\n",
       "      <td>1</td>\n",
       "      <td>0</td>\n",
       "      <td>A/5 21171</td>\n",
       "      <td>7.2500</td>\n",
       "      <td>NaN</td>\n",
       "      <td>S</td>\n",
       "    </tr>\n",
       "    <tr>\n",
       "      <th>1</th>\n",
       "      <td>2</td>\n",
       "      <td>1</td>\n",
       "      <td>1</td>\n",
       "      <td>Cumings, Mrs. John Bradley (Florence Briggs Th...</td>\n",
       "      <td>female</td>\n",
       "      <td>38.0</td>\n",
       "      <td>1</td>\n",
       "      <td>0</td>\n",
       "      <td>PC 17599</td>\n",
       "      <td>71.2833</td>\n",
       "      <td>C85</td>\n",
       "      <td>C</td>\n",
       "    </tr>\n",
       "    <tr>\n",
       "      <th>2</th>\n",
       "      <td>3</td>\n",
       "      <td>1</td>\n",
       "      <td>3</td>\n",
       "      <td>Heikkinen, Miss. Laina</td>\n",
       "      <td>female</td>\n",
       "      <td>26.0</td>\n",
       "      <td>0</td>\n",
       "      <td>0</td>\n",
       "      <td>STON/O2. 3101282</td>\n",
       "      <td>7.9250</td>\n",
       "      <td>NaN</td>\n",
       "      <td>S</td>\n",
       "    </tr>\n",
       "    <tr>\n",
       "      <th>3</th>\n",
       "      <td>4</td>\n",
       "      <td>1</td>\n",
       "      <td>1</td>\n",
       "      <td>Futrelle, Mrs. Jacques Heath (Lily May Peel)</td>\n",
       "      <td>female</td>\n",
       "      <td>35.0</td>\n",
       "      <td>1</td>\n",
       "      <td>0</td>\n",
       "      <td>113803</td>\n",
       "      <td>53.1000</td>\n",
       "      <td>C123</td>\n",
       "      <td>S</td>\n",
       "    </tr>\n",
       "    <tr>\n",
       "      <th>4</th>\n",
       "      <td>5</td>\n",
       "      <td>0</td>\n",
       "      <td>3</td>\n",
       "      <td>Allen, Mr. William Henry</td>\n",
       "      <td>male</td>\n",
       "      <td>35.0</td>\n",
       "      <td>0</td>\n",
       "      <td>0</td>\n",
       "      <td>373450</td>\n",
       "      <td>8.0500</td>\n",
       "      <td>NaN</td>\n",
       "      <td>S</td>\n",
       "    </tr>\n",
       "  </tbody>\n",
       "</table>\n",
       "</div>"
      ],
      "text/plain": [
       "   PassengerId  Survived  Pclass  \\\n",
       "0            1         0       3   \n",
       "1            2         1       1   \n",
       "2            3         1       3   \n",
       "3            4         1       1   \n",
       "4            5         0       3   \n",
       "\n",
       "                                                Name     Sex   Age  SibSp  \\\n",
       "0                            Braund, Mr. Owen Harris    male  22.0      1   \n",
       "1  Cumings, Mrs. John Bradley (Florence Briggs Th...  female  38.0      1   \n",
       "2                             Heikkinen, Miss. Laina  female  26.0      0   \n",
       "3       Futrelle, Mrs. Jacques Heath (Lily May Peel)  female  35.0      1   \n",
       "4                           Allen, Mr. William Henry    male  35.0      0   \n",
       "\n",
       "   Parch            Ticket     Fare Cabin Embarked  \n",
       "0      0         A/5 21171   7.2500   NaN        S  \n",
       "1      0          PC 17599  71.2833   C85        C  \n",
       "2      0  STON/O2. 3101282   7.9250   NaN        S  \n",
       "3      0            113803  53.1000  C123        S  \n",
       "4      0            373450   8.0500   NaN        S  "
      ]
     },
     "execution_count": 4,
     "metadata": {},
     "output_type": "execute_result"
    }
   ],
   "source": [
    "train_data = pd.read_csv(data/\"train.csv\")\n",
    "train_data.head()"
   ]
  },
  {
   "cell_type": "code",
   "execution_count": 5,
   "metadata": {},
   "outputs": [
    {
     "data": {
      "text/html": [
       "<div>\n",
       "<style scoped>\n",
       "    .dataframe tbody tr th:only-of-type {\n",
       "        vertical-align: middle;\n",
       "    }\n",
       "\n",
       "    .dataframe tbody tr th {\n",
       "        vertical-align: top;\n",
       "    }\n",
       "\n",
       "    .dataframe thead th {\n",
       "        text-align: right;\n",
       "    }\n",
       "</style>\n",
       "<table border=\"1\" class=\"dataframe\">\n",
       "  <thead>\n",
       "    <tr style=\"text-align: right;\">\n",
       "      <th></th>\n",
       "      <th>PassengerId</th>\n",
       "      <th>Pclass</th>\n",
       "      <th>Name</th>\n",
       "      <th>Sex</th>\n",
       "      <th>Age</th>\n",
       "      <th>SibSp</th>\n",
       "      <th>Parch</th>\n",
       "      <th>Ticket</th>\n",
       "      <th>Fare</th>\n",
       "      <th>Cabin</th>\n",
       "      <th>Embarked</th>\n",
       "    </tr>\n",
       "  </thead>\n",
       "  <tbody>\n",
       "    <tr>\n",
       "      <th>0</th>\n",
       "      <td>892</td>\n",
       "      <td>3</td>\n",
       "      <td>Kelly, Mr. James</td>\n",
       "      <td>male</td>\n",
       "      <td>34.5</td>\n",
       "      <td>0</td>\n",
       "      <td>0</td>\n",
       "      <td>330911</td>\n",
       "      <td>7.8292</td>\n",
       "      <td>NaN</td>\n",
       "      <td>Q</td>\n",
       "    </tr>\n",
       "    <tr>\n",
       "      <th>1</th>\n",
       "      <td>893</td>\n",
       "      <td>3</td>\n",
       "      <td>Wilkes, Mrs. James (Ellen Needs)</td>\n",
       "      <td>female</td>\n",
       "      <td>47.0</td>\n",
       "      <td>1</td>\n",
       "      <td>0</td>\n",
       "      <td>363272</td>\n",
       "      <td>7.0000</td>\n",
       "      <td>NaN</td>\n",
       "      <td>S</td>\n",
       "    </tr>\n",
       "    <tr>\n",
       "      <th>2</th>\n",
       "      <td>894</td>\n",
       "      <td>2</td>\n",
       "      <td>Myles, Mr. Thomas Francis</td>\n",
       "      <td>male</td>\n",
       "      <td>62.0</td>\n",
       "      <td>0</td>\n",
       "      <td>0</td>\n",
       "      <td>240276</td>\n",
       "      <td>9.6875</td>\n",
       "      <td>NaN</td>\n",
       "      <td>Q</td>\n",
       "    </tr>\n",
       "    <tr>\n",
       "      <th>3</th>\n",
       "      <td>895</td>\n",
       "      <td>3</td>\n",
       "      <td>Wirz, Mr. Albert</td>\n",
       "      <td>male</td>\n",
       "      <td>27.0</td>\n",
       "      <td>0</td>\n",
       "      <td>0</td>\n",
       "      <td>315154</td>\n",
       "      <td>8.6625</td>\n",
       "      <td>NaN</td>\n",
       "      <td>S</td>\n",
       "    </tr>\n",
       "    <tr>\n",
       "      <th>4</th>\n",
       "      <td>896</td>\n",
       "      <td>3</td>\n",
       "      <td>Hirvonen, Mrs. Alexander (Helga E Lindqvist)</td>\n",
       "      <td>female</td>\n",
       "      <td>22.0</td>\n",
       "      <td>1</td>\n",
       "      <td>1</td>\n",
       "      <td>3101298</td>\n",
       "      <td>12.2875</td>\n",
       "      <td>NaN</td>\n",
       "      <td>S</td>\n",
       "    </tr>\n",
       "  </tbody>\n",
       "</table>\n",
       "</div>"
      ],
      "text/plain": [
       "   PassengerId  Pclass                                          Name     Sex  \\\n",
       "0          892       3                              Kelly, Mr. James    male   \n",
       "1          893       3              Wilkes, Mrs. James (Ellen Needs)  female   \n",
       "2          894       2                     Myles, Mr. Thomas Francis    male   \n",
       "3          895       3                              Wirz, Mr. Albert    male   \n",
       "4          896       3  Hirvonen, Mrs. Alexander (Helga E Lindqvist)  female   \n",
       "\n",
       "    Age  SibSp  Parch   Ticket     Fare Cabin Embarked  \n",
       "0  34.5      0      0   330911   7.8292   NaN        Q  \n",
       "1  47.0      1      0   363272   7.0000   NaN        S  \n",
       "2  62.0      0      0   240276   9.6875   NaN        Q  \n",
       "3  27.0      0      0   315154   8.6625   NaN        S  \n",
       "4  22.0      1      1  3101298  12.2875   NaN        S  "
      ]
     },
     "execution_count": 5,
     "metadata": {},
     "output_type": "execute_result"
    }
   ],
   "source": [
    "test_data = pd.read_csv(data/\"test.csv\")\n",
    "test_output = pd.read_csv(data/\"test_real_outcomes.csv\")\n",
    "test_data.head()"
   ]
  },
  {
   "cell_type": "code",
   "execution_count": 6,
   "metadata": {
    "scrolled": true
   },
   "outputs": [
    {
     "data": {
      "text/plain": [
       "PassengerId    891\n",
       "Survived       891\n",
       "Pclass         891\n",
       "Name           891\n",
       "Sex            891\n",
       "Age            714\n",
       "SibSp          891\n",
       "Parch          891\n",
       "Ticket         891\n",
       "Fare           891\n",
       "Cabin          204\n",
       "Embarked       889\n",
       "dtype: int64"
      ]
     },
     "execution_count": 6,
     "metadata": {},
     "output_type": "execute_result"
    }
   ],
   "source": [
    "train_data.count()"
   ]
  },
  {
   "cell_type": "code",
   "execution_count": 7,
   "metadata": {},
   "outputs": [
    {
     "data": {
      "text/plain": [
       "PassengerId      0\n",
       "Survived         0\n",
       "Pclass           0\n",
       "Name             0\n",
       "Sex              0\n",
       "Age            177\n",
       "SibSp            0\n",
       "Parch            0\n",
       "Ticket           0\n",
       "Fare             0\n",
       "Cabin          687\n",
       "Embarked         2\n",
       "dtype: int64"
      ]
     },
     "execution_count": 7,
     "metadata": {},
     "output_type": "execute_result"
    }
   ],
   "source": [
    "train_data.isnull().sum()"
   ]
  },
  {
   "cell_type": "code",
   "execution_count": 8,
   "metadata": {},
   "outputs": [],
   "source": [
    "data=train_data.values"
   ]
  },
  {
   "cell_type": "markdown",
   "metadata": {},
   "source": [
    "### Cleaning the dataset..."
   ]
  },
  {
   "cell_type": "code",
   "execution_count": 9,
   "metadata": {},
   "outputs": [],
   "source": [
    "def name_feature(df):\n",
    "    x = np.zeros((df.shape[0], 17))\n",
    "    df[\"Name_title\"] = df['Name'].apply(lambda x: x.split(',')[1]).apply(lambda x: x.split()[0])\n",
    "    for i in range(df.shape[0]):\n",
    "        if df[\"Name_title\"][i] == 'Mr.':\n",
    "            x[i][0]=1\n",
    "        elif df[\"Name_title\"][i] == 'Miss.':\n",
    "            x[i][1]=1\n",
    "        elif df[\"Name_title\"][i] == 'Mrs.':\n",
    "            x[i][2]=1\n",
    "        elif df[\"Name_title\"][i] == 'Master.':\n",
    "            x[i][3]=1\n",
    "        elif df[\"Name_title\"][i] == 'Dr.':\n",
    "            x[i][4]=1\n",
    "        elif df[\"Name_title\"][i] == 'Rev.':\n",
    "            x[i][5]=1\n",
    "        elif df[\"Name_title\"][i] == 'Major.':\n",
    "            x[i][6]=1\n",
    "        elif df[\"Name_title\"][i] == 'Mlle.':\n",
    "            x[i][7]=1\n",
    "        elif df[\"Name_title\"][i] == 'Col.':\n",
    "            x[i][8]=1\n",
    "        elif df[\"Name_title\"][i] == 'Jonkheer.':\n",
    "            x[i][9]=1\n",
    "        elif df[\"Name_title\"][i] == 'Sir.':\n",
    "            x[i][10]=1\n",
    "        elif df[\"Name_title\"][i] == 'Capt.':\n",
    "            x[i][11]=1\n",
    "        elif df[\"Name_title\"][i] == 'Mme.':\n",
    "            x[i][12]=1\n",
    "        elif df[\"Name_title\"][i] == 'Ms.':\n",
    "            x[i][13]=1\n",
    "        elif df[\"Name_title\"][i] == 'the':\n",
    "            x[i][14]=1\n",
    "        elif df[\"Name_title\"][i] == 'Lady.':\n",
    "            x[i][15]=1\n",
    "        elif df[\"Name_title\"][i] == 'Don.':\n",
    "            x[i][16]\n",
    "    return x"
   ]
  },
  {
   "cell_type": "code",
   "execution_count": 10,
   "metadata": {},
   "outputs": [],
   "source": [
    "def braces_in_names(df):\n",
    "    a=np.zeros((df.shape[0],1))\n",
    "    for i in range(df.shape[0]):\n",
    "        if not df[\"Name\"][i].replace(' ','').replace(',','').replace('.','').find('(')==-1:\n",
    "            a[i]=1\n",
    "        else:\n",
    "            a[i]=0\n",
    "    return a"
   ]
  },
  {
   "cell_type": "code",
   "execution_count": 11,
   "metadata": {},
   "outputs": [],
   "source": [
    "def isNaN(string):\n",
    "    return string!= string"
   ]
  },
  {
   "cell_type": "code",
   "execution_count": 12,
   "metadata": {},
   "outputs": [],
   "source": [
    "def data_gen(data,df):\n",
    "    a0=np.zeros((data.shape[0],2))\n",
    "    for i in range(data.shape[0]):\n",
    "        if data[i][3]=='male':\n",
    "            a0[i][0]=1\n",
    "        elif data[i][3]=='female':\n",
    "            a0[i][1]=1\n",
    "    \n",
    "    for i in range(data.shape[0]):\n",
    "        if np.isnan(data[i][4]):\n",
    "            data[i][4]=train_data[\"Age\"].median(axis=0)\n",
    "            \n",
    "    a1=np.zeros((data.shape[0],3))\n",
    "    for i in range(data.shape[0]):\n",
    "        if data[i][10]=='S':\n",
    "            a1[i][0]=1\n",
    "        elif data[i][10]=='C':\n",
    "            a1[i][1]=1\n",
    "        elif data[i][10]=='Q':\n",
    "            a1[i][2]=1\n",
    "        else:\n",
    "            a1[i][0]=1\n",
    "    \n",
    "    \n",
    "    a2=np.zeros((data.shape[0],8))\n",
    "    b=np.zeros((data.shape[0],4))\n",
    "\n",
    "    for i in range(data.shape[0]):\n",
    "        if not isNaN(data[i][9]):\n",
    "            z=0;q=\"\";\n",
    "            for j in data[i][9]:\n",
    "                if j.isdigit():\n",
    "                    q+=j\n",
    "                elif j.isalpha():\n",
    "                    if j=='A':\n",
    "                        a2[i][0]=1\n",
    "                    elif j=='B':\n",
    "                        a2[i][1]=1\n",
    "                    elif j=='C':\n",
    "                        a2[i][2]=1\n",
    "                    elif j=='D':\n",
    "                        a2[i][3]=1\n",
    "                    elif j=='E':\n",
    "                        a2[i][4]=1\n",
    "                    elif j=='F':\n",
    "                        a2[i][5]=1\n",
    "                    elif j=='G':\n",
    "                        a2[i][6]=1\n",
    "                    elif j=='T':\n",
    "                        a2[i][7]=1\n",
    "                else:\n",
    "                    if q:\n",
    "                        b[i][z]=int(q)\n",
    "                        q=\"\"\n",
    "                    z+=1\n",
    "                \n",
    "            if q:\n",
    "                b[i][z]=int(q)\n",
    "    \n",
    "    a2=np.concatenate((a2,b),axis=1)\n",
    "    \n",
    "    a3=np.zeros((data.shape[0],3))\n",
    "    for i in range(data.shape[0]):\n",
    "        if data[i][1]==1:\n",
    "            a3[i][0]=1\n",
    "        if data[i][1]==2:\n",
    "            a3[i][1]=1\n",
    "        if data[i][1]==3:\n",
    "            a3[i][2]=1\n",
    "            \n",
    "    a4=np.zeros((data.shape[0],13))\n",
    "    for i in range(data.shape[0]):\n",
    "        if len(data[i][7].split())>1:\n",
    "            for j, x in enumerate(data[i][7].split()[0].replace('.','').replace('/','')):\n",
    "                if x.isdigit():\n",
    "                    a4[i][j]=float(x)\n",
    "                elif x.isalpha():\n",
    "                    a4[i][j]=ord(x)\n",
    "            if len(data[i][7].split())>2:\n",
    "                if data[i][7].split()[1].replace('.','').isdigit():\n",
    "                    a4[i][11]=float(data[i][7].split()[1].replace('.',''))\n",
    "                else:\n",
    "                    for k, y in enumerate(data[i][7].split()[1]):\n",
    "                        a4[i][7+k]=ord(y)\n",
    "            a4[i][12]=int(data[i][7].split()[-1])/100\n",
    "        else:\n",
    "            if data[i][7]!='LINE':\n",
    "                a4[i][7]=len(data[i][7])\n",
    "                \n",
    "    a5=name_feature(df)\n",
    "    \n",
    "    a6=braces_in_names(df)\n",
    "            \n",
    "    a=np.concatenate((a0,a1,a2,a3,a4,a5,a6),axis=1)\n",
    "    \n",
    "    X=(data[:,[4,5,6,8]])\n",
    "    X=np.concatenate((X,a),axis=1)\n",
    "    \n",
    "    scaler=StandardScaler()\n",
    "    sc=scaler.fit(X)\n",
    "    \n",
    "    X=X.astype(float)\n",
    "    \n",
    "    for i in range(data.shape[0]):\n",
    "        for j in range(X.shape[1]):\n",
    "            if X[i][j]==np.nan or isNaN(X[i][j]):\n",
    "                X[i][j]=sc.mean_[j]\n",
    "    X=sc.transform(X)\n",
    "    return X"
   ]
  },
  {
   "cell_type": "code",
   "execution_count": 13,
   "metadata": {},
   "outputs": [],
   "source": [
    "X=data_gen(data[:,[0,2,3,4,5,6,7,8,9,10,11]],train_data)\n",
    "# Y=data[:,[1]]\n",
    "y=train_data[\"Survived\"]\n",
    "lb=LabelBinarizer()\n",
    "Y=pd.get_dummies(train_data['Survived']).values"
   ]
  },
  {
   "cell_type": "code",
   "execution_count": 14,
   "metadata": {},
   "outputs": [
    {
     "name": "stdout",
     "output_type": "stream",
     "text": [
      "(891, 2) (891, 55)\n"
     ]
    }
   ],
   "source": [
    "print(Y.shape,X.shape)"
   ]
  },
  {
   "cell_type": "markdown",
   "metadata": {},
   "source": [
    "### Designing the prediction model..."
   ]
  },
  {
   "cell_type": "code",
   "execution_count": 15,
   "metadata": {
    "scrolled": true
   },
   "outputs": [
    {
     "name": "stdout",
     "output_type": "stream",
     "text": [
      "WARNING:tensorflow:From C:\\Users\\rrkk9\\anaconda3\\lib\\site-packages\\keras\\backend\\tensorflow_backend.py:422: The name tf.global_variables is deprecated. Please use tf.compat.v1.global_variables instead.\n",
      "\n",
      "Train on 623 samples, validate on 268 samples\n",
      "Epoch 1/70\n",
      "623/623 [==============================] - 2s 3ms/step - loss: 0.7683 - accuracy: 0.5650 - val_loss: 0.6540 - val_accuracy: 0.6493\n",
      "Epoch 2/70\n",
      "623/623 [==============================] - 0s 108us/step - loss: 0.7774 - accuracy: 0.5666 - val_loss: 0.6361 - val_accuracy: 0.7015\n",
      "Epoch 3/70\n",
      "623/623 [==============================] - 0s 104us/step - loss: 0.7314 - accuracy: 0.5875 - val_loss: 0.6181 - val_accuracy: 0.7425\n",
      "Epoch 4/70\n",
      "623/623 [==============================] - 0s 106us/step - loss: 0.7217 - accuracy: 0.5811 - val_loss: 0.5983 - val_accuracy: 0.7537\n",
      "Epoch 5/70\n",
      "623/623 [==============================] - 0s 104us/step - loss: 0.6608 - accuracy: 0.6421 - val_loss: 0.5815 - val_accuracy: 0.7612\n",
      "Epoch 6/70\n",
      "623/623 [==============================] - 0s 104us/step - loss: 0.6306 - accuracy: 0.6982 - val_loss: 0.5669 - val_accuracy: 0.7537\n",
      "Epoch 7/70\n",
      "623/623 [==============================] - 0s 95us/step - loss: 0.6410 - accuracy: 0.6677 - val_loss: 0.5564 - val_accuracy: 0.7537\n",
      "Epoch 8/70\n",
      "623/623 [==============================] - 0s 98us/step - loss: 0.6191 - accuracy: 0.7030 - val_loss: 0.5464 - val_accuracy: 0.7724\n",
      "Epoch 9/70\n",
      "623/623 [==============================] - 0s 98us/step - loss: 0.5891 - accuracy: 0.7223 - val_loss: 0.5358 - val_accuracy: 0.7761\n",
      "Epoch 10/70\n",
      "623/623 [==============================] - 0s 100us/step - loss: 0.6146 - accuracy: 0.7047 - val_loss: 0.5293 - val_accuracy: 0.7761\n",
      "Epoch 11/70\n",
      "623/623 [==============================] - 0s 96us/step - loss: 0.5633 - accuracy: 0.7239 - val_loss: 0.5222 - val_accuracy: 0.7724\n",
      "Epoch 12/70\n",
      "623/623 [==============================] - 0s 100us/step - loss: 0.5630 - accuracy: 0.7480 - val_loss: 0.5164 - val_accuracy: 0.7799\n",
      "Epoch 13/70\n",
      "623/623 [==============================] - 0s 103us/step - loss: 0.5771 - accuracy: 0.7384 - val_loss: 0.5109 - val_accuracy: 0.7836\n",
      "Epoch 14/70\n",
      "623/623 [==============================] - 0s 103us/step - loss: 0.5371 - accuracy: 0.7673 - val_loss: 0.5052 - val_accuracy: 0.7873\n",
      "Epoch 15/70\n",
      "623/623 [==============================] - 0s 104us/step - loss: 0.5389 - accuracy: 0.7673 - val_loss: 0.5008 - val_accuracy: 0.7873\n",
      "Epoch 16/70\n",
      "623/623 [==============================] - 0s 104us/step - loss: 0.5452 - accuracy: 0.7560 - val_loss: 0.4979 - val_accuracy: 0.7910\n",
      "Epoch 17/70\n",
      "623/623 [==============================] - 0s 103us/step - loss: 0.5252 - accuracy: 0.7608 - val_loss: 0.4947 - val_accuracy: 0.7910\n",
      "Epoch 18/70\n",
      "623/623 [==============================] - 0s 103us/step - loss: 0.5313 - accuracy: 0.7416 - val_loss: 0.4922 - val_accuracy: 0.7948\n",
      "Epoch 19/70\n",
      "623/623 [==============================] - 0s 106us/step - loss: 0.5518 - accuracy: 0.7528 - val_loss: 0.4907 - val_accuracy: 0.7948\n",
      "Epoch 20/70\n",
      "623/623 [==============================] - 0s 116us/step - loss: 0.5194 - accuracy: 0.7769 - val_loss: 0.4894 - val_accuracy: 0.7910\n",
      "Epoch 21/70\n",
      "623/623 [==============================] - 0s 96us/step - loss: 0.5042 - accuracy: 0.7737 - val_loss: 0.4864 - val_accuracy: 0.7910\n",
      "Epoch 22/70\n",
      "623/623 [==============================] - 0s 96us/step - loss: 0.4996 - accuracy: 0.7785 - val_loss: 0.4849 - val_accuracy: 0.7948\n",
      "Epoch 23/70\n",
      "623/623 [==============================] - 0s 100us/step - loss: 0.4768 - accuracy: 0.7978 - val_loss: 0.4837 - val_accuracy: 0.7985\n",
      "Epoch 24/70\n",
      "623/623 [==============================] - 0s 100us/step - loss: 0.4854 - accuracy: 0.7865 - val_loss: 0.4826 - val_accuracy: 0.7985\n",
      "Epoch 25/70\n",
      "623/623 [==============================] - 0s 101us/step - loss: 0.5014 - accuracy: 0.7785 - val_loss: 0.4808 - val_accuracy: 0.8060\n",
      "Epoch 26/70\n",
      "623/623 [==============================] - 0s 104us/step - loss: 0.5081 - accuracy: 0.7721 - val_loss: 0.4792 - val_accuracy: 0.8097\n",
      "Epoch 27/70\n",
      "623/623 [==============================] - 0s 109us/step - loss: 0.4874 - accuracy: 0.7705 - val_loss: 0.4777 - val_accuracy: 0.8134\n",
      "Epoch 28/70\n",
      "623/623 [==============================] - 0s 103us/step - loss: 0.4953 - accuracy: 0.7994 - val_loss: 0.4762 - val_accuracy: 0.8134\n",
      "Epoch 29/70\n",
      "623/623 [==============================] - 0s 109us/step - loss: 0.5066 - accuracy: 0.7769 - val_loss: 0.4750 - val_accuracy: 0.8172\n",
      "Epoch 30/70\n",
      "623/623 [==============================] - 0s 108us/step - loss: 0.5000 - accuracy: 0.7817 - val_loss: 0.4747 - val_accuracy: 0.8172\n",
      "Epoch 31/70\n",
      "623/623 [==============================] - 0s 100us/step - loss: 0.4802 - accuracy: 0.7737 - val_loss: 0.4739 - val_accuracy: 0.8209\n",
      "Epoch 32/70\n",
      "623/623 [==============================] - 0s 101us/step - loss: 0.4876 - accuracy: 0.7849 - val_loss: 0.4726 - val_accuracy: 0.8209\n",
      "Epoch 33/70\n",
      "623/623 [==============================] - 0s 104us/step - loss: 0.4748 - accuracy: 0.7801 - val_loss: 0.4714 - val_accuracy: 0.8209\n",
      "Epoch 34/70\n",
      "623/623 [==============================] - 0s 104us/step - loss: 0.4706 - accuracy: 0.7961 - val_loss: 0.4704 - val_accuracy: 0.8246\n",
      "Epoch 35/70\n",
      "623/623 [==============================] - 0s 106us/step - loss: 0.4694 - accuracy: 0.7945 - val_loss: 0.4694 - val_accuracy: 0.8246\n",
      "Epoch 36/70\n",
      "623/623 [==============================] - 0s 106us/step - loss: 0.4502 - accuracy: 0.8090 - val_loss: 0.4681 - val_accuracy: 0.8246\n",
      "Epoch 37/70\n",
      "623/623 [==============================] - 0s 104us/step - loss: 0.4589 - accuracy: 0.8074 - val_loss: 0.4675 - val_accuracy: 0.8284\n",
      "Epoch 38/70\n",
      "623/623 [==============================] - 0s 100us/step - loss: 0.4549 - accuracy: 0.7897 - val_loss: 0.4668 - val_accuracy: 0.8284\n",
      "Epoch 39/70\n",
      "623/623 [==============================] - 0s 100us/step - loss: 0.4647 - accuracy: 0.8010 - val_loss: 0.4660 - val_accuracy: 0.8284\n",
      "Epoch 40/70\n",
      "623/623 [==============================] - 0s 100us/step - loss: 0.4572 - accuracy: 0.7994 - val_loss: 0.4645 - val_accuracy: 0.8246\n",
      "Epoch 41/70\n",
      "623/623 [==============================] - 0s 100us/step - loss: 0.4660 - accuracy: 0.8010 - val_loss: 0.4639 - val_accuracy: 0.8172\n",
      "Epoch 42/70\n",
      "623/623 [==============================] - 0s 101us/step - loss: 0.4544 - accuracy: 0.8106 - val_loss: 0.4630 - val_accuracy: 0.8172\n",
      "Epoch 43/70\n",
      "623/623 [==============================] - 0s 104us/step - loss: 0.4634 - accuracy: 0.8058 - val_loss: 0.4618 - val_accuracy: 0.8172\n",
      "Epoch 44/70\n",
      "623/623 [==============================] - 0s 104us/step - loss: 0.4559 - accuracy: 0.7913 - val_loss: 0.4616 - val_accuracy: 0.8209\n",
      "Epoch 45/70\n",
      "623/623 [==============================] - 0s 106us/step - loss: 0.4421 - accuracy: 0.7994 - val_loss: 0.4606 - val_accuracy: 0.8209\n",
      "Epoch 46/70\n",
      "623/623 [==============================] - 0s 101us/step - loss: 0.4492 - accuracy: 0.8234 - val_loss: 0.4597 - val_accuracy: 0.8209\n",
      "Epoch 47/70\n",
      "623/623 [==============================] - 0s 103us/step - loss: 0.4361 - accuracy: 0.8138 - val_loss: 0.4589 - val_accuracy: 0.8209\n",
      "Epoch 48/70\n",
      "623/623 [==============================] - 0s 104us/step - loss: 0.4286 - accuracy: 0.8154 - val_loss: 0.4575 - val_accuracy: 0.8209\n",
      "Epoch 49/70\n",
      "623/623 [==============================] - 0s 100us/step - loss: 0.4463 - accuracy: 0.8170 - val_loss: 0.4560 - val_accuracy: 0.8246\n",
      "Epoch 50/70\n",
      "623/623 [==============================] - 0s 101us/step - loss: 0.4191 - accuracy: 0.8202 - val_loss: 0.4548 - val_accuracy: 0.8246\n",
      "Epoch 51/70\n",
      "623/623 [==============================] - 0s 100us/step - loss: 0.4540 - accuracy: 0.8058 - val_loss: 0.4544 - val_accuracy: 0.8209\n",
      "Epoch 52/70\n",
      "623/623 [==============================] - 0s 108us/step - loss: 0.4390 - accuracy: 0.8154 - val_loss: 0.4544 - val_accuracy: 0.8209\n",
      "Epoch 53/70\n",
      "623/623 [==============================] - 0s 111us/step - loss: 0.4383 - accuracy: 0.8154 - val_loss: 0.4538 - val_accuracy: 0.8209\n",
      "Epoch 54/70\n",
      "623/623 [==============================] - 0s 108us/step - loss: 0.4380 - accuracy: 0.8234 - val_loss: 0.4526 - val_accuracy: 0.8209\n",
      "Epoch 55/70\n",
      "623/623 [==============================] - 0s 106us/step - loss: 0.4552 - accuracy: 0.8122 - val_loss: 0.4514 - val_accuracy: 0.8209\n"
     ]
    },
    {
     "name": "stdout",
     "output_type": "stream",
     "text": [
      "Epoch 56/70\n",
      "623/623 [==============================] - 0s 108us/step - loss: 0.4201 - accuracy: 0.8331 - val_loss: 0.4499 - val_accuracy: 0.8209\n",
      "Epoch 57/70\n",
      "623/623 [==============================] - 0s 103us/step - loss: 0.4308 - accuracy: 0.8234 - val_loss: 0.4483 - val_accuracy: 0.8246\n",
      "Epoch 58/70\n",
      "623/623 [==============================] - 0s 98us/step - loss: 0.4309 - accuracy: 0.8106 - val_loss: 0.4470 - val_accuracy: 0.8284\n",
      "Epoch 59/70\n",
      "623/623 [==============================] - 0s 98us/step - loss: 0.4227 - accuracy: 0.8283 - val_loss: 0.4466 - val_accuracy: 0.8284\n",
      "Epoch 60/70\n",
      "623/623 [==============================] - 0s 96us/step - loss: 0.4374 - accuracy: 0.8283 - val_loss: 0.4456 - val_accuracy: 0.8284\n",
      "Epoch 61/70\n",
      "623/623 [==============================] - 0s 98us/step - loss: 0.4249 - accuracy: 0.8058 - val_loss: 0.4450 - val_accuracy: 0.8284\n",
      "Epoch 62/70\n",
      "623/623 [==============================] - 0s 101us/step - loss: 0.4350 - accuracy: 0.8154 - val_loss: 0.4442 - val_accuracy: 0.8284\n",
      "Epoch 63/70\n",
      "623/623 [==============================] - 0s 103us/step - loss: 0.4072 - accuracy: 0.8202 - val_loss: 0.4442 - val_accuracy: 0.8284\n",
      "Epoch 64/70\n",
      "623/623 [==============================] - 0s 120us/step - loss: 0.4122 - accuracy: 0.8347 - val_loss: 0.4437 - val_accuracy: 0.8284\n",
      "Epoch 65/70\n",
      "623/623 [==============================] - 0s 132us/step - loss: 0.4328 - accuracy: 0.8283 - val_loss: 0.4431 - val_accuracy: 0.8321\n",
      "Epoch 66/70\n",
      "623/623 [==============================] - 0s 122us/step - loss: 0.4029 - accuracy: 0.8475 - val_loss: 0.4423 - val_accuracy: 0.8321\n",
      "Epoch 67/70\n",
      "623/623 [==============================] - 0s 114us/step - loss: 0.4256 - accuracy: 0.8266 - val_loss: 0.4411 - val_accuracy: 0.8246\n",
      "Epoch 68/70\n",
      "623/623 [==============================] - 0s 104us/step - loss: 0.4133 - accuracy: 0.8347 - val_loss: 0.4398 - val_accuracy: 0.8246\n",
      "Epoch 69/70\n",
      "623/623 [==============================] - 0s 96us/step - loss: 0.4035 - accuracy: 0.8475 - val_loss: 0.4391 - val_accuracy: 0.8246\n",
      "Epoch 70/70\n",
      "623/623 [==============================] - 0s 98us/step - loss: 0.4132 - accuracy: 0.8283 - val_loss: 0.4389 - val_accuracy: 0.8246\n"
     ]
    }
   ],
   "source": [
    "xi=Input(shape=(55,))\n",
    "\n",
    "x=Dense(128)(xi)\n",
    "x=BatchNormalization()(x)\n",
    "x=Activation('relu')(x)\n",
    "x=Dropout(0.5)(x)\n",
    "\n",
    "x=Dense(64)(x)\n",
    "x=BatchNormalization()(x)\n",
    "x=Activation('relu')(x)\n",
    "x=Dropout(0.5)(x)\n",
    "\n",
    "x=Dense(32)(x)\n",
    "x=BatchNormalization()(x)\n",
    "x=Activation('relu')(x)\n",
    "x=Dropout(0.5)(x)\n",
    "\n",
    "x=Dense(2)(x)\n",
    "x=BatchNormalization()(x)\n",
    "x=Activation('softmax',name=\"asd\")(x)\n",
    "\n",
    "model=Model(inputs=xi, outputs=x)\n",
    "\n",
    "model.compile(loss='categorical_crossentropy', optimizer='adam', metrics=['accuracy'])\n",
    "\n",
    "history=model.fit(X, Y, epochs=70, batch_size=128, validation_split=0.3)"
   ]
  },
  {
   "cell_type": "markdown",
   "metadata": {},
   "source": [
    "##### Plotting accuracies and loss functions for training and validation sets..."
   ]
  },
  {
   "cell_type": "code",
   "execution_count": 16,
   "metadata": {
    "scrolled": true
   },
   "outputs": [
    {
     "data": {
      "text/plain": [
       "<matplotlib.legend.Legend at 0x27c168c8a48>"
      ]
     },
     "execution_count": 16,
     "metadata": {},
     "output_type": "execute_result"
    },
    {
     "data": {
      "image/png": "[encoded data removed]",
      "text/plain": [
       "<Figure size 432x288 with 1 Axes>"
      ]
     },
     "metadata": {
      "needs_background": "light"
     },
     "output_type": "display_data"
    }
   ],
   "source": [
    "plt.plot(history.history[\"accuracy\"],label=\"acc.\")\n",
    "plt.plot(history.history[\"val_accuracy\"],label=\"val_acc.\")\n",
    "plt.legend(loc=\"center right\")"
   ]
  },
  {
   "cell_type": "code",
   "execution_count": 17,
   "metadata": {
    "scrolled": true
   },
   "outputs": [
    {
     "data": {
      "text/plain": [
       "<matplotlib.legend.Legend at 0x27c1698fe08>"
      ]
     },
     "execution_count": 17,
     "metadata": {},
     "output_type": "execute_result"
    },
    {
     "data": {
      "image/png": "[encoded data removed]",
      "text/plain": [
       "<Figure size 432x288 with 1 Axes>"
      ]
     },
     "metadata": {
      "needs_background": "light"
     },
     "output_type": "display_data"
    }
   ],
   "source": [
    "plt.plot(history.history[\"loss\"],label=\"training loss\")\n",
    "plt.plot(history.history[\"val_loss\"],label=\"val_loss\")\n",
    "plt.legend(loc=\"center right\")"
   ]
  },
  {
   "cell_type": "markdown",
   "metadata": {},
   "source": [
    "### Making predictions of test set..."
   ]
  },
  {
   "cell_type": "code",
   "execution_count": 18,
   "metadata": {},
   "outputs": [
    {
     "name": "stdout",
     "output_type": "stream",
     "text": [
      "(418, 55) (418, 2)\n"
     ]
    }
   ],
   "source": [
    "X_t=test_data.values\n",
    "X_test=data_gen(X_t,test_data)\n",
    "Y_test=pd.get_dummies(test_output['Survived']).values\n",
    "print(X_test.shape,Y_test.shape)"
   ]
  },
  {
   "cell_type": "code",
   "execution_count": 19,
   "metadata": {},
   "outputs": [
    {
     "name": "stdout",
     "output_type": "stream",
     "text": [
      "418/418 [==============================] - 0s 93us/step\n"
     ]
    },
    {
     "data": {
      "text/plain": [
       "[0.5093466462701132, 0.7727272510528564]"
      ]
     },
     "execution_count": 19,
     "metadata": {},
     "output_type": "execute_result"
    }
   ],
   "source": [
    "model.evaluate(X_test,Y_test)"
   ]
  },
  {
   "cell_type": "markdown",
   "metadata": {},
   "source": [
    "#### So the model gives loss = 0.509 with accuracy of 77.272%."
   ]
  },
  {
   "cell_type": "code",
   "execution_count": 20,
   "metadata": {},
   "outputs": [],
   "source": [
    "z=np.round(model.predict(X_test))==Y_test"
   ]
  },
  {
   "cell_type": "markdown",
   "metadata": {},
   "source": [
    "#### Printing wrong predictions..."
   ]
  },
  {
   "cell_type": "code",
   "execution_count": 21,
   "metadata": {},
   "outputs": [
    {
     "name": "stdout",
     "output_type": "stream",
     "text": [
      "1 1 [893 3 'Wilkes, Mrs. James (Ellen Needs)' 'female' 47.0 1 0 '363272' 7.0\n",
      " nan 'S']\n",
      "4 1 [896 3 'Hirvonen, Mrs. Alexander (Helga E Lindqvist)' 'female' 22.0 1 1\n",
      " '3101298' 12.2875 nan 'S']\n",
      "5 1 [897 3 'Svensson, Mr. Johan Cervin' 'male' 14.0 0 0 '7538' 9.225 nan 'S']\n",
      "6 0 [898 3 'Connolly, Miss. Kate' 'female' 30.0 0 0 '330972' 7.6292 nan 'Q']\n",
      "7 1 [899 2 'Caldwell, Mr. Albert Francis' 'male' 26.0 1 1 '248738' 29.0 nan\n",
      " 'S']\n",
      "18 0 [910 3 'Ilmakangas, Miss. Ida Livija' 'female' 27.0 1 0 'STON/O2. 3101270'\n",
      " 7.925 nan 'S']\n",
      "23 1 [915 1 'Williams, Mr. Richard Norris II' 'male' 21.0 0 1 'PC 17597'\n",
      " 61.3792 nan 'C']\n",
      "32 1 [924 3 'Dean, Mrs. Bertram (Eva Georgetta Light)' 'female' 33.0 1 2\n",
      " 'C.A. 2315' 20.575 nan 'S']\n",
      "34 1 [926 1 'Mock, Mr. Philipp Edmund' 'male' 30.0 1 0 '13236' 57.75 'C78' 'C']\n",
      "36 1 [928 3 'Roth, Miss. Sarah A' 'female' 28.0 0 0 '342712' 8.05 nan 'S']\n",
      "38 1 [930 3 'Sap, Mr. Julius' 'male' 25.0 0 0 '345768' 9.5 nan 'S']\n",
      "39 1 [931 3 'Hee, Mr. Ling' 'male' 28.0 0 0 '1601' 56.4958 nan 'S']\n",
      "40 1 [932 3 'Karun, Mr. Franz' 'male' 39.0 0 1 '349256' 13.4167 nan 'C']\n",
      "41 0 [933 1 'Franklin, Mr. Thomas Parham' 'male' 28.0 0 0 '113778' 26.55 'D34'\n",
      " 'S']\n",
      "43 0 [935 2 'Corbett, Mrs. Walter H (Irene Colvin)' 'female' 30.0 0 0 '237249'\n",
      " 13.0 nan 'S']\n",
      "46 1 [938 1 'Chevre, Mr. Paul Romaine' 'male' 45.0 0 0 'PC 17594' 29.7 'A9' 'C']\n",
      "49 1 [941 3 'Coutts, Mrs. William (Winnie Minnie\" Treanor)\"' 'female' 36.0 0 2\n",
      " 'C.A. 37671' 15.9 nan 'S']\n",
      "57 1 [949 3 'Abelseth, Mr. Olaus Jorgensen' 'male' 25.0 0 0 '348122' 7.65\n",
      " 'F G63' 'S']\n",
      "65 0 [957 2 'Corey, Mrs. Percy C (Mary Phyllis Elizabeth Miller)' 'female' 28.0\n",
      " 0 0 'F.C.C. 13534' 21.0 nan 'S']\n",
      "66 0 [958 3 'Burns, Miss. Mary Delia' 'female' 18.0 0 0 '330963' 7.8792 nan 'Q']\n",
      "68 1 [960 1 'Tucker, Mr. Gilbert Milligan Jr' 'male' 31.0 0 0 '2543' 28.5375\n",
      " 'C53' 'C']\n",
      "73 0 [965 1 'Ovies y Rodriguez, Mr. Servando' 'male' 28.5 0 0 'PC 17562'\n",
      " 27.7208 'D43' 'C']\n",
      "79 0 [971 3 'Doyle, Miss. Elizabeth' 'female' 24.0 0 0 '368702' 7.75 nan 'Q']\n",
      "80 0 [972 3 'Boulos, Master. Akar' 'male' 6.0 1 1 '2678' 15.2458 nan 'C']\n",
      "86 0 [978 3 'Barry, Miss. Julia' 'female' 27.0 0 0 '330844' 7.8792 nan 'Q']\n",
      "87 1 [979 3 'Badman, Miss. Emily Louisa' 'female' 18.0 0 0 'A/4 31416' 8.05 nan\n",
      " 'S']\n",
      "88 0 [980 3 \"O'Donoghue, Ms. Bridget\" 'female' 28.0 0 0 '364856' 7.75 nan 'Q']\n",
      "90 1 [982 3 'Dyker, Mrs. Adolf Fredrik (Anna Elisabeth Judith Andersson)'\n",
      " 'female' 22.0 1 0 '347072' 13.9 nan 'S']\n",
      "95 1 [987 3 'Tenglin, Mr. Gunnar Isidor' 'male' 25.0 0 0 '350033' 7.7958 nan\n",
      " 'S']\n",
      "103 1 [995 3 'Johansson Palmquist, Mr. Oskar Leander' 'male' 26.0 0 0 '347070'\n",
      " 7.775 nan 'S']\n",
      "106 1 [998 3 'Buckley, Mr. Daniel' 'male' 21.0 0 0 '330920' 7.8208 nan 'Q']\n",
      "107 1 [999 3 'Ryan, Mr. Edward' 'male' 28.0 0 0 '383162' 7.75 nan 'Q']\n",
      "112 0 [1004 1 'Evans, Miss. Edith Corse' 'female' 36.0 0 0 'PC 17531' 31.6792\n",
      " 'A29' 'C']\n",
      "113 0 [1005 3 'Buckley, Miss. Katherine' 'female' 18.5 0 0 '329944' 7.2833 nan\n",
      " 'Q']\n",
      "114 0 [1006 1 'Straus, Mrs. Isidor (Rosalie Ida Blun)' 'female' 63.0 1 0\n",
      " 'PC 17483' 221.7792 'C55 C57' 'S']\n",
      "117 1 [1009 3 'Sandstrom, Miss. Beatrice Irene' 'female' 1.0 1 1 'PP 9549' 16.7\n",
      " 'G6' 'S']\n",
      "119 0 [1011 2 'Chapman, Mrs. John Henry (Sara Elizabeth Lawry)' 'female' 29.0 1\n",
      " 0 'SC/AH 29037' 26.0 nan 'S']\n",
      "124 1 [1016 3 'Kennedy, Mr. John' 'male' 28.0 0 0 '368783' 7.75 nan 'Q']\n",
      "125 1 [1017 3 'Cribb, Miss. Laura Alice' 'female' 17.0 0 1 '371362' 16.1 nan 'S']\n",
      "138 1 [1030 3 'Drapkin, Miss. Jennie' 'female' 23.0 0 0 'SOTON/OQ 392083' 8.05\n",
      " nan 'S']\n",
      "142 0 [1034 1 'Ryerson, Mr. Arthur Larned' 'male' 61.0 1 3 'PC 17608' 262.375\n",
      " 'B57 B59 B63 B66' 'C']\n",
      "155 1 [1047 3 'Duquemin, Mr. Joseph' 'male' 24.0 0 0 'S.O./P.P. 752' 7.55 nan\n",
      " 'S']\n",
      "157 1 [1049 3 'Lundin, Miss. Olga Elida' 'female' 23.0 0 0 '347469' 7.8542 nan\n",
      " 'S']\n",
      "158 0 [1050 1 'Borebank, Mr. John James' 'male' 42.0 0 0 '110489' 26.55 'D22'\n",
      " 'S']\n",
      "159 0 [1051 3 'Peacock, Mrs. Benjamin (Edith Nile)' 'female' 26.0 0 2\n",
      " 'SOTON/O.Q. 3101315' 13.775 nan 'S']\n",
      "165 1 [1057 3 'Kink-Heilmann, Mrs. Anton (Luise Heilmann)' 'female' 26.0 1 1\n",
      " '315153' 22.025 nan 'S']\n",
      "169 1 [1061 3 'Hellstrom, Miss. Hilda Maria' 'female' 22.0 0 0 '7548' 8.9625 nan\n",
      " 'S']\n",
      "177 1 [1069 1 'Stengel, Mr. Charles Emil Henry' 'male' 54.0 1 0 '11778' 55.4417\n",
      " 'C116' 'C']\n",
      "181 0 [1073 1 'Compton, Mr. Alexander Taylor Jr' 'male' 37.0 1 1 'PC 17756'\n",
      " 83.1583 'E52' 'C']\n",
      "191 1 [1083 1 'Salomon, Mr. Abraham L' 'male' 28.0 0 0 '111163' 26.0 nan 'S']\n",
      "197 1 [1089 3 'Nilsson, Miss. Berta Olivia' 'female' 18.0 0 0 '347066' 7.775 nan\n",
      " 'S']\n",
      "201 0 [1093 3 'Danbom, Master. Gilbert Sigvard Emanuel' 'male' 0.33 0 2 '347080'\n",
      " 14.4 nan 'S']\n",
      "202 0 [1094 1 'Astor, Col. John Jacob' 'male' 47.0 1 0 'PC 17757' 227.525\n",
      " 'C62 C64' 'C']\n",
      "205 1 [1097 1 'Omont, Mr. Alfred Fernand' 'male' 28.0 0 0 'F.C. 12998' 25.7417\n",
      " nan 'C']\n",
      "206 0 [1098 3 'McGowan, Miss. Katherine' 'female' 35.0 0 0 '9232' 7.75 nan 'Q']\n",
      "207 1 [1099 2 'Collett, Mr. Sidney C Stuart' 'male' 24.0 0 0 '28034' 10.5 nan\n",
      " 'S']\n",
      "211 1 [1103 3 'Finoli, Mr. Luigi' 'male' 28.0 0 0 'SOTON/O.Q. 3101308' 7.05 nan\n",
      " 'S']\n",
      "213 0 [1105 2 'Howard, Mrs. Benjamin (Ellen Truelove Arman)' 'female' 60.0 1 0\n",
      " '24065' 26.0 nan 'S']\n",
      "216 0 [1108 3 'Mahon, Miss. Bridget Delia' 'female' 28.0 0 0 '330924' 7.8792 nan\n",
      " 'Q']\n",
      "223 1 [1115 3 'Karlsson, Mr. Einar Gervasius' 'male' 21.0 0 0 '350053' 7.7958\n",
      " nan 'S']\n",
      "226 1 [1118 3 'Asplund, Mr. Johan Charles' 'male' 23.0 0 0 '350054' 7.7958 nan\n",
      " 'S']\n",
      "227 0 [1119 3 'McNeill, Miss. Bridget' 'female' 28.0 0 0 '370368' 7.75 nan 'Q']\n",
      "236 0 [1128 1 'Warren, Mr. Frank Manley' 'male' 64.0 1 0 '110813' 75.25 'D37'\n",
      " 'C']\n",
      "238 0 [1130 2 'Hiltunen, Miss. Marta' 'female' 18.0 1 1 '250650' 13.0 nan 'S']\n",
      "243 1 [1135 3 'Hyman, Mr. Abraham' 'male' 28.0 0 0 '3470' 7.8875 nan 'S']\n",
      "245 0 [1137 1 'Kenyon, Mr. Frederick R' 'male' 41.0 1 0 '17464' 51.8625 'D21'\n",
      " 'S']\n",
      "246 0 [1138 2 'Karnes, Mrs. J Frank (Claire Bennett)' 'female' 22.0 0 0\n",
      " 'F.C.C. 13534' 21.0 nan 'S']\n",
      "249 0 [1141 3 'Khalil, Mrs. Betros (Zahie Maria\" Elias)\"' 'female' 28.0 1 0\n",
      " '2660' 14.4542 nan 'C']\n",
      "251 1 [1143 3 'Abrahamsson, Mr. Abraham August Johannes' 'male' 20.0 0 0\n",
      " 'SOTON/O2 3101284' 7.925 nan 'S']\n",
      "259 1 [1151 3 'Midtsjo, Mr. Karl Albert' 'male' 21.0 0 0 '345501' 7.775 nan 'S']\n",
      "260 1 [1152 3 'de Messemaeker, Mr. Guillaume Joseph' 'male' 36.5 1 0 '345572'\n",
      " 17.4 nan 'S']\n",
      "264 1 [1156 2 'Portaluppi, Mr. Emilio Ilario Giuseppe' 'male' 30.0 0 0\n",
      " 'C.A. 34644' 12.7375 nan 'C']\n",
      "273 0 [1165 3 'Lennon, Miss. Mary' 'female' 28.0 1 0 '370371' 15.5 nan 'Q']\n",
      "279 1 [1171 2 'Oxenham, Mr. Percy Thomas' 'male' 22.0 0 0 'W./C. 14260' 10.5 nan\n",
      " 'S']\n",
      "282 0 [1174 3 'Fleming, Miss. Honora' 'female' 28.0 0 0 '364859' 7.75 nan 'Q']\n",
      "287 1 [1179 1 'Snyder, Mr. John Pillsbury' 'male' 24.0 1 0 '21228' 82.2667 'B45'\n",
      " 'S']\n",
      "290 1 [1182 1 'Rheims, Mr. George Alexander Lucien' 'male' 28.0 0 0 'PC 17607'\n",
      " 39.6 nan 'S']\n",
      "293 1 [1185 1 'Dodge, Dr. Washington' 'male' 53.0 1 1 '33638' 81.8583 'A34' 'S']\n",
      "300 1 [1192 3 'Olsson, Mr. Oscar Wilhelm' 'male' 32.0 0 0 '347079' 7.775 nan 'S']\n",
      "301 0 [1193 2 'Malachard, Mr. Noel' 'male' 28.0 0 0 '237735' 15.0458 'D' 'C']\n",
      "309 1 [1201 3 'Hansen, Mrs. Claus Peter (Jennie L Howard)' 'female' 45.0 1 0\n",
      " '350026' 14.1083 nan 'S']\n",
      "311 1 [1203 3 'Vartanian, Mr. David' 'male' 22.0 0 0 '2658' 7.225 nan 'C']\n",
      "313 0 [1205 3 'Carr, Miss. Jeannie' 'female' 37.0 0 0 '368364' 7.75 nan 'Q']\n",
      "315 0 [1207 3 'Hagardon, Miss. Kate' 'female' 17.0 0 0 'AQ/3. 30631' 7.7333 nan\n",
      " 'Q']\n",
      "321 1 [1213 3 'Krekorian, Mr. Neshan' 'male' 25.0 0 0 '2654' 7.2292 'F E57' 'C']\n",
      "341 1 [1233 3 'Lundstrom, Mr. Thure Edvin' 'male' 32.0 0 0 '350403' 7.5792 nan\n",
      " 'S']\n",
      "345 1 [1237 3 'Abelseth, Miss. Karen Marie' 'female' 16.0 0 0 '348125' 7.65 nan\n",
      " 'S']\n",
      "354 1 [1246 3 'Dean, Miss. Elizabeth Gladys Millvina\"\"' 'female' 0.17 1 2\n",
      " 'C.A. 2315' 20.575 nan 'S']\n",
      "358 1 [1250 3 \"O'Keefe, Mr. Patrick\" 'male' 28.0 0 0 '368402' 7.75 nan 'Q']\n",
      "369 1 [1261 2 'Pallas y Castello, Mr. Emilio' 'male' 29.0 0 0 'SC/PARIS 2147'\n",
      " 13.8583 nan 'C']\n",
      "372 1 [1264 1 'Ismay, Mr. Joseph Bruce' 'male' 49.0 0 0 '112058' 0.0\n",
      " 'B52 B54 B56' 'S']\n",
      "392 0 [1284 3 'Abbott, Master. Eugene Joseph' 'male' 13.0 0 2 'C.A. 2673' 20.25\n",
      " nan 'S']\n",
      "394 1 [1286 3 'Kink-Heilmann, Mr. Anton' 'male' 29.0 3 1 '315153' 22.025 nan 'S']\n",
      "410 0 [1302 3 'Naughton, Miss. Hannah' 'female' 28.0 0 0 '365237' 7.75 nan 'Q']\n",
      "417 1 [1309 3 'Peter, Master. Michael J' 'male' 28.0 1 1 '2668' 22.3583 nan 'C']\n"
     ]
    }
   ],
   "source": [
    "s=0\n",
    "for i in range(X_test.shape[0]):\n",
    "    if z[i][0]==False:\n",
    "        print(str(i),test_output['Survived'][i],X_t[i])\n",
    "        s+=1"
   ]
  },
  {
   "cell_type": "code",
   "execution_count": 22,
   "metadata": {},
   "outputs": [
    {
     "name": "stdout",
     "output_type": "stream",
     "text": [
      "95\n"
     ]
    }
   ],
   "source": [
    "print(s)                              #total number of wrong predictions."
   ]
  },
  {
   "cell_type": "code",
   "execution_count": null,
   "metadata": {},
   "outputs": [],
   "source": []
  }
 ],
 "metadata": {
  "kernelspec": {
   "display_name": "Python 3",
   "language": "python",
   "name": "python3"
  },
  "language_info": {
   "codemirror_mode": {
    "name": "ipython",
    "version": 3
   },
   "file_extension": ".py",
   "mimetype": "text/x-python",
   "name": "python",
   "nbconvert_exporter": "python",
   "pygments_lexer": "ipython3",
   "version": "3.7.6"
  }
 },
 "nbformat": 4,
 "nbformat_minor": 4
}
